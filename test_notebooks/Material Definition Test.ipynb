{
 "cells": [
  {
   "cell_type": "code",
   "execution_count": 1,
   "metadata": {},
   "outputs": [],
   "source": [
    "#import libs\n",
    "import sys,os\n",
    "import numpy as np\n",
    "\n",
    "os.chdir(r'G:\\My Drive\\Documents\\PhD\\Modelling\\_RiceBall')\n",
    "from ricepaper.material import NodeSet\n",
    "from ricepaper import RicePaper\n",
    "from ricepaper.utils import *"
   ]
  },
  {
   "cell_type": "code",
   "execution_count": 2,
   "metadata": {},
   "outputs": [],
   "source": [
    "#define a material\n",
    "mat = NodeSet(\"volcano\",[30,25,20], #radii\n",
    "                         2500, #densities (applied to all radii)\n",
    "                         6.96e9, #young's modulus (applied to all radii)\n",
    "                         0.2) #poisson ratio (applied to all radii)\n",
    "mat.setFriction(0.3, #friction coefficient\n",
    "                0.0) #cohesion\n",
    "mat.setBonding( 5e9, #normal stiffness (Pa)\n",
    "                5e9, #shear stiffness (Pa)\n",
    "                5e6, #tensile strength (Pa)\n",
    "                10e6) #shear strength (Pa)"
   ]
  },
  {
   "cell_type": "code",
   "execution_count": 3,
   "metadata": {},
   "outputs": [],
   "source": [
    "#create ricepaper instance and apply materials\n",
    "R = RicePaper(\"Material_Test\")\n",
    "mat._bindPropsToModel(R)"
   ]
  },
  {
   "cell_type": "code",
   "execution_count": 4,
   "metadata": {},
   "outputs": [
    {
     "name": "stdout",
     "output_type": "stream",
     "text": [
      "\n",
      "*****************************\n",
      "** define material 'volcano' \n",
      "*****************************\n",
      "\n",
      "** particle type 1\n",
      "RAD 30.00 1\n",
      "DENS 2500 1\n",
      "HERTZ 2.900000E+09 0.200000 1\n",
      "\n",
      "** particle type 2\n",
      "RAD 25.00 2\n",
      "DENS 2500 2\n",
      "HERTZ 2.900000E+09 0.200000 2\n",
      "\n",
      "** particle type 3\n",
      "RAD 20.00 3\n",
      "DENS 2500 3\n",
      "HERTZ 2.900000E+09 0.200000 3\n",
      "\n",
      "** particle interactions\n",
      "FRIC 0.300000 1 1\n",
      "SH 5.000000E+09 1 1\n",
      "NO 5.000000E+09 1 1\n",
      "COH 0.000000 1 1\n",
      "BONd 5.00E+09 5.00E+09 5.00E+06 1.00E+07 1 1\n",
      "\n",
      "FRIC 0.300000 2 1\n",
      "SH 5.000000E+09 2 1\n",
      "NO 5.000000E+09 2 1\n",
      "COH 0.000000 2 1\n",
      "BONd 5.00E+09 5.00E+09 5.00E+06 1.00E+07 2 1\n",
      "\n",
      "FRIC 0.300000 2 2\n",
      "SH 5.000000E+09 2 2\n",
      "NO 5.000000E+09 2 2\n",
      "COH 0.000000 2 2\n",
      "BONd 5.00E+09 5.00E+09 5.00E+06 1.00E+07 2 2\n",
      "\n",
      "FRIC 0.300000 3 1\n",
      "SH 5.000000E+09 3 1\n",
      "NO 5.000000E+09 3 1\n",
      "COH 0.000000 3 1\n",
      "BONd 5.00E+09 5.00E+09 5.00E+06 1.00E+07 3 1\n",
      "\n",
      "FRIC 0.300000 3 2\n",
      "SH 5.000000E+09 3 2\n",
      "NO 5.000000E+09 3 2\n",
      "COH 0.000000 3 2\n",
      "BONd 5.00E+09 5.00E+09 5.00E+06 1.00E+07 3 2\n",
      "\n",
      "FRIC 0.300000 3 3\n",
      "SH 5.000000E+09 3 3\n",
      "NO 5.000000E+09 3 3\n",
      "COH 0.000000 3 3\n",
      "BONd 5.00E+09 5.00E+09 5.00E+06 1.00E+07 3 3\n",
      "\n"
     ]
    }
   ],
   "source": [
    "#print output file to check it looks reasonable\n",
    "for l in R.lines:\n",
    "    print(l,end = \"\")"
   ]
  },
  {
   "cell_type": "code",
   "execution_count": null,
   "metadata": {},
   "outputs": [],
   "source": []
  },
  {
   "cell_type": "code",
   "execution_count": null,
   "metadata": {},
   "outputs": [],
   "source": []
  },
  {
   "cell_type": "code",
   "execution_count": null,
   "metadata": {},
   "outputs": [],
   "source": []
  },
  {
   "cell_type": "code",
   "execution_count": null,
   "metadata": {},
   "outputs": [],
   "source": []
  }
 ],
 "metadata": {
  "kernelspec": {
   "display_name": "Python 3",
   "language": "python",
   "name": "python3"
  },
  "language_info": {
   "codemirror_mode": {
    "name": "ipython",
    "version": 3
   },
   "file_extension": ".py",
   "mimetype": "text/x-python",
   "name": "python",
   "nbconvert_exporter": "python",
   "pygments_lexer": "ipython3",
   "version": "3.6.4"
  }
 },
 "nbformat": 4,
 "nbformat_minor": 2
}
