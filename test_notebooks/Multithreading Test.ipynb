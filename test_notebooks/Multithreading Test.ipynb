{
 "cells": [
  {
   "cell_type": "code",
   "execution_count": 1,
   "metadata": {},
   "outputs": [],
   "source": [
    "import sys, os\n",
    "os.chdir('G:\\My Drive\\Documents\\PhD\\Modelling\\_RiceBall')"
   ]
  },
  {
   "cell_type": "code",
   "execution_count": 2,
   "metadata": {},
   "outputs": [],
   "source": [
    "import ricepaper\n",
    "from ricepaper import RicePaper\n",
    "from ricepaper.reader import RiceBall\n",
    "from ricepaper.dykes import DykeFarm\n",
    "\n",
    "import matplotlib.pyplot as plt\n",
    "import networkx as nx\n",
    "import numpy as np"
   ]
  },
  {
   "cell_type": "code",
   "execution_count": 3,
   "metadata": {},
   "outputs": [],
   "source": [
    "#setup base project\n",
    "R = RicePaper(\"ThreadingTest\")\n",
    "\n",
    "R.setRadius(1,30)\n",
    "R.setRadius(2,25)\n",
    "R.setRadius(3,20)\n",
    "\n",
    "R.setDensity(1,2500)\n",
    "R.setDensity(2,2500)\n",
    "R.setDensity(3,2500)\n",
    "\n",
    "R.setHertzian(1,2.9e9,0.2)\n",
    "R.setHertzian(2,2.9e9,0.2)\n",
    "R.setHertzian(3,2.9e9,0.2)\n",
    "\n",
    "R.setLinItc(1,1,2e10,2e10)\n",
    "R.setLinItc(1,2,2e10,2e10)\n",
    "R.setLinItc(1,3,2e10,2e10)\n",
    "R.setLinItc(2,2,2e10,2e10)\n",
    "R.setLinItc(2,3,2e10,2e10)\n",
    "R.setLinItc(3,3,2e10,2e10)\n",
    "\n",
    "R.setFrictionItc(1,1,0.3)\n",
    "R.setFrictionItc(1,2,0.3)\n",
    "R.setFrictionItc(1,3,0.3)\n",
    "R.setFrictionItc(2,2,0.3)\n",
    "R.setFrictionItc(2,3,0.3)\n",
    "R.setFrictionItc(3,3,0.3)\n",
    "\n",
    "#numerical properties\n",
    "R.setDamping() #use defaults\n",
    "R.setNumericalProperties(timestep=5e-2)\n",
    "\n",
    "#generate line of balls\n",
    "R.genLine((25, 75, 50),(25, 4975, 50), 10, 3, 3) #left side\n",
    "R.genLine((14975, 75, 50),(14975, 4975, 50), 10, 3, 3) #righth side\n",
    "R.genLine((25, 25, 50),(14975, 25, 50), 10, 3, 3) #bottom side\n",
    "R.fixDOFAll(True,True,True) #fix DOF on balls\n",
    "\n",
    "#generate some balls!\n",
    "R.setDomain(6000,9000,4000,6000,0,100) #domain to create balls in\n",
    "R.setSeed(50)\n",
    "\n",
    "R.setGravity((0,-9.8,0)) #set gravity\n",
    "\n",
    "#create balls and cycle\n",
    "activeColor = 'g'\n",
    "altColor = 'b'\n",
    "for i in range(4):\n",
    "    R.genBalls(500,1,1,color=activeColor)\n",
    "    R.genBalls(1000,2,1,color=activeColor)\n",
    "    R.cycle(2000)\n",
    "    \n",
    "    #flip color\n",
    "    tmp = activeColor\n",
    "    activeColor = altColor\n",
    "    altColor = tmp"
   ]
  },
  {
   "cell_type": "code",
   "execution_count": 4,
   "metadata": {},
   "outputs": [],
   "source": [
    "#clone base project into different threads (these will be identical, but hey...)\n",
    "names = [\"ThreadingTest/%d\" % d for d in range(10)] #create ten projects\n",
    "projects = []\n",
    "for n in names:\n",
    "    projects.append(R.clone(n))"
   ]
  },
  {
   "cell_type": "code",
   "execution_count": 5,
   "metadata": {},
   "outputs": [
    {
     "name": "stdout",
     "output_type": "stream",
     "text": [
      "Launching job 1 of 10.\n",
      "Launching job 2 of 10.\n",
      "Launching job 3 of 10.\n",
      "Launching job 4 of 10.\n",
      "Launching job 5 of 10.\n",
      "Launching job 6 of 10.\n",
      "Launching job 7 of 10.\n",
      "Launching job 8 of 10.\n",
      "Launching job 9 of 10.\n",
      "Launching job 10 of 10.\n"
     ]
    }
   ],
   "source": [
    "#run multithreaded\n",
    "ricepaper.multiThreadExecute( projects )"
   ]
  },
  {
   "cell_type": "code",
   "execution_count": null,
   "metadata": {},
   "outputs": [],
   "source": []
  },
  {
   "cell_type": "code",
   "execution_count": null,
   "metadata": {},
   "outputs": [],
   "source": []
  },
  {
   "cell_type": "code",
   "execution_count": null,
   "metadata": {},
   "outputs": [],
   "source": []
  },
  {
   "cell_type": "code",
   "execution_count": null,
   "metadata": {},
   "outputs": [],
   "source": []
  },
  {
   "cell_type": "code",
   "execution_count": null,
   "metadata": {},
   "outputs": [],
   "source": []
  }
 ],
 "metadata": {
  "kernelspec": {
   "display_name": "Python 3",
   "language": "python",
   "name": "python3"
  },
  "language_info": {
   "codemirror_mode": {
    "name": "ipython",
    "version": 3
   },
   "file_extension": ".py",
   "mimetype": "text/x-python",
   "name": "python",
   "nbconvert_exporter": "python",
   "pygments_lexer": "ipython3",
   "version": "3.6.4"
  }
 },
 "nbformat": 4,
 "nbformat_minor": 2
}
