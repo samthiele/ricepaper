{
 "cells": [
  {
   "cell_type": "code",
   "execution_count": 1,
   "metadata": {},
   "outputs": [],
   "source": [
    "import sys, os\n",
    "os.chdir('..')"
   ]
  },
  {
   "cell_type": "code",
   "execution_count": 2,
   "metadata": {},
   "outputs": [],
   "source": [
    "from RiceBallReader import RiceBall\n",
    "from RicePaper import RicePaper\n",
    "import matplotlib.pyplot as plt\n",
    "import networkx as nx"
   ]
  },
  {
   "cell_type": "code",
   "execution_count": 8,
   "metadata": {},
   "outputs": [],
   "source": [
    "R = RicePaper(\"volcano_control\")"
   ]
  },
  {
   "cell_type": "code",
   "execution_count": 9,
   "metadata": {},
   "outputs": [],
   "source": [
    "#setup simulation as per La Palma demo\n",
    "\n",
    "#material properties\n",
    "R.setRadius(1,30)\n",
    "R.setRadius(2,25)\n",
    "R.setRadius(3,20)\n",
    "\n",
    "R.setDensity(1,2500)\n",
    "R.setDensity(2,2500)\n",
    "R.setDensity(3,2500)\n",
    "\n",
    "R.setHertzian(1,2.9e9,0.2)\n",
    "R.setHertzian(2,2.9e9,0.2)\n",
    "R.setHertzian(3,2.9e9,0.2)\n",
    "\n",
    "R.setLinItc(1,1,2e10,2e10)\n",
    "R.setLinItc(1,2,2e10,2e10)\n",
    "R.setLinItc(1,3,2e10,2e10)\n",
    "R.setLinItc(2,2,2e10,2e10)\n",
    "R.setLinItc(2,3,2e10,2e10)\n",
    "R.setLinItc(3,3,2e10,2e10)\n",
    "\n",
    "R.setFrictionItc(1,1,0.3)\n",
    "R.setFrictionItc(1,2,0.3)\n",
    "R.setFrictionItc(1,3,0.3)\n",
    "R.setFrictionItc(2,2,0.3)\n",
    "R.setFrictionItc(2,3,0.3)\n",
    "R.setFrictionItc(3,3,0.3)\n",
    "\n",
    "#numerical properties\n",
    "R.setDamping() #use defaults\n",
    "R.setNumericalProperties(timestep=5e-2)\n",
    "\n",
    "#generate line of balls\n",
    "R.genLine((25, 75, 50),(25, 4975, 50), 2.0, 3, 3) #left side\n",
    "R.genLine((14975, 75, 50),(14975, 4975, 50), 2.0, 3, 3) #righth side\n",
    "R.genLine((25, 25, 50),(14975, 25, 50), 2.0, 3, 3) #bottom side\n",
    "R.fixDOFAll(True,True,True) #fix DOF on balls\n",
    "\n",
    "\n",
    "R.setGravity((0,-9.8,0)) #set gravity\n",
    "\n",
    "#generate some balls!\n",
    "R.setDomain(6000,9000,4000,6000,0,100) #domain to create balls in\n",
    "\n",
    "#create balls and cycle\n",
    "activeColor = 'g'\n",
    "altColor = 'b'\n",
    "for i in range(4):\n",
    "    R.genBalls(500,1,1,color=activeColor)\n",
    "    R.genBalls(1000,2,1,color=activeColor)\n",
    "    R.cycle(2000)\n",
    "    \n",
    "    #flip color\n",
    "    tmp = activeColor\n",
    "    activeColor = altColor\n",
    "    altColor = tmp"
   ]
  },
  {
   "cell_type": "code",
   "execution_count": null,
   "metadata": {},
   "outputs": [],
   "source": [
    "R.execute(True,False)"
   ]
  },
  {
   "cell_type": "code",
   "execution_count": null,
   "metadata": {},
   "outputs": [],
   "source": [
    "model = R.loadLastOutput()"
   ]
  },
  {
   "cell_type": "code",
   "execution_count": null,
   "metadata": {},
   "outputs": [],
   "source": [
    "#shape volcano using cutting lines\n",
    "deleted = []\n",
    "deleted = model.cut(4000,30)\n",
    "deleted += model.cut(11000,-30)"
   ]
  },
  {
   "cell_type": "code",
   "execution_count": null,
   "metadata": {},
   "outputs": [],
   "source": [
    "#plot!\n",
    "plt.figure(figsize=(18,5))\n",
    "nx.draw(model.G,model.pos,node_size=10,node_color='g')"
   ]
  },
  {
   "cell_type": "code",
   "execution_count": null,
   "metadata": {},
   "outputs": [],
   "source": [
    "#delete these nodes\n",
    "R.delBalls(deleted,model.pos)\n",
    "R.cycle(5)\n",
    "R.execute()"
   ]
  },
  {
   "cell_type": "code",
   "execution_count": null,
   "metadata": {
    "scrolled": false
   },
   "outputs": [],
   "source": [
    "#plot unstable model\n",
    "model = R.loadLastOutput()\n",
    "plt.figure(figsize=(18,5))\n",
    "nx.draw(model.G,model.pos,node_size=10,node_color='g')\n",
    "\n",
    "#calculate and plot as model re-stabilises\n",
    "for i in range(5):\n",
    "    R.cycle(200)\n",
    "    R.execute()\n",
    "    #plot this last step\n",
    "    model = R.loadLastOutput()\n",
    "    plt.figure(figsize=(18,5))\n",
    "    nx.draw(model.G,model.pos,node_size=10,node_color='g')\n",
    "    plt.show()"
   ]
  },
  {
   "cell_type": "code",
   "execution_count": null,
   "metadata": {},
   "outputs": [],
   "source": []
  },
  {
   "cell_type": "code",
   "execution_count": null,
   "metadata": {},
   "outputs": [],
   "source": []
  },
  {
   "cell_type": "code",
   "execution_count": null,
   "metadata": {},
   "outputs": [],
   "source": []
  },
  {
   "cell_type": "code",
   "execution_count": null,
   "metadata": {},
   "outputs": [],
   "source": []
  }
 ],
 "metadata": {
  "kernelspec": {
   "display_name": "Python 3",
   "language": "python",
   "name": "python3"
  },
  "language_info": {
   "codemirror_mode": {
    "name": "ipython",
    "version": 3
   },
   "file_extension": ".py",
   "mimetype": "text/x-python",
   "name": "python",
   "nbconvert_exporter": "python",
   "pygments_lexer": "ipython3",
   "version": "3.6.4"
  }
 },
 "nbformat": 4,
 "nbformat_minor": 2
}
